{
  "nbformat": 4,
  "nbformat_minor": 0,
  "metadata": {
    "colab": {
      "name": "Capstone_week_1.ipynb",
      "provenance": []
    },
    "kernelspec": {
      "name": "python3",
      "display_name": "Python 3"
    }
  },
  "cells": [
    {
      "cell_type": "code",
      "metadata": {
        "id": "Q9EKdusgN14T",
        "colab_type": "code",
        "colab": {}
      },
      "source": [
        "# 1. Write some markdown to explain that this notebook will be mainly used for the capstone project"
      ],
      "execution_count": 1,
      "outputs": []
    },
    {
      "cell_type": "markdown",
      "metadata": {
        "id": "EZJt7vC5OT_3",
        "colab_type": "text"
      },
      "source": [
        "This notebook is mainly created as a part IBM Applied Data Science capstone course on Coursera\n"
      ]
    },
    {
      "cell_type": "code",
      "metadata": {
        "id": "md3BuXUHOpud",
        "colab_type": "code",
        "colab": {}
      },
      "source": [
        "# 2.Import the pandas library as pd\n",
        "import pandas as pd"
      ],
      "execution_count": 2,
      "outputs": []
    },
    {
      "cell_type": "code",
      "metadata": {
        "id": "C2RedBiFO2Jl",
        "colab_type": "code",
        "colab": {}
      },
      "source": [
        "# 3.Import the Numpy library as np\n",
        "import numpy as np"
      ],
      "execution_count": 3,
      "outputs": []
    },
    {
      "cell_type": "code",
      "metadata": {
        "id": "SEoyNczyPJeQ",
        "colab_type": "code",
        "colab": {
          "base_uri": "https://localhost:8080/",
          "height": 34
        },
        "outputId": "a053b124-fef8-4f8b-822e-2076e8ed20e9"
      },
      "source": [
        "# 4.Print the following the statement: Hello Capstone Project Course!\n",
        "print(\"Hello Capstone Project Course!\")"
      ],
      "execution_count": 4,
      "outputs": [
        {
          "output_type": "stream",
          "text": [
            "Hello Capstone Project Course!\n"
          ],
          "name": "stdout"
        }
      ]
    }
  ]
}